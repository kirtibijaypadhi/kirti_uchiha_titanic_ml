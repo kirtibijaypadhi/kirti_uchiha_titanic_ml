{
 "cells": [
  {
   "cell_type": "code",
   "execution_count": 12,
   "id": "b355eaab",
   "metadata": {},
   "outputs": [],
   "source": [
    "import pandas\n",
    "import seaborn\n",
    "import matplotlib.pyplot\n",
    "from sklearn.ensemble import RandomForestClassifier\n",
    "from sklearn.model_selection import train_test_split\n",
    "import pickle\n",
    "\n",
    "data_form = pandas.read_csv('train.csv')\n",
    "del data_form['Cabin']\n",
    "data_form.loc[data_form['Age'] > 70, 'Age'] = 70\n",
    "data_form.loc[data_form['Fare']>400, 'Fare'] = data_form['Fare'].median()\n",
    "data_form['Age'].fillna(data_form['Age'].median(), inplace=True)\n",
    "data_form['Embarked'].fillna('S', inplace=True)\n",
    "def get_title(name):\n",
    "  if '.' in name:\n",
    "    return name.split(',')[1].split('.')[0].strip()\n",
    "  else:\n",
    "    return 'No title in name'\n",
    "titles = set(x for x in data_form.Name.map(lambda x: get_title(x)))\n",
    "def short_title(x):\n",
    "  title = x['Title']\n",
    "  if title in ['Col', 'Capt', 'Major']:\n",
    "    return 'Officer'\n",
    "  elif title in ['Jonkheer', 'Don','the Countess', 'Dona','Lady','Sir']:\n",
    "    return 'Royalty'\n",
    "  elif title == 'Mme':\n",
    "    return 'Mrs'\n",
    "  elif title in ['Mlle', 'Ms']:\n",
    "    return 'Miss'\n",
    "  else:\n",
    "    return title\n",
    "data_form['Title'] = data_form['Name'].map(lambda x:get_title(x))\n",
    "data_form['Title'] = data_form.apply(short_title, axis=1)\n",
    "data_form.drop('Name', axis=1, inplace=True)\n",
    "data_form.replace(('male', 'female'), (0,1),inplace=True)\n",
    "data_form.replace(('S','C','Q'), (0,1,2),inplace=True)\n",
    "data_form.replace(('Mr','Miss','Mrs','Master','Dr','Rev','Royalty','Officer'), (0,1,2,3,4,5,6,7),inplace=True)\n",
    "\n",
    "x = data_form.drop(['Survived', 'PassengerId', 'Ticket'], axis=1)\n",
    "y = data_form['Survived']\n",
    "# x_train, x_val, y_train, y_val = train_test_split(x, y, test_size=0.1)\n",
    "\n",
    "\n",
    "# from sklearn.metrics import accuracy_score\n",
    "x_train, x_val, y_train, y_val = train_test_split(x, y, test_size=0.1)\n",
    "randomforest = RandomForestClassifier()\n",
    "randomforest.fit(x_train, y_train)\n",
    "y_pred = randomforest.predict(x_val)\n",
    "# acc_randomforest = round(accuracy_score(y_pred, y_val) * 100, 2)\n",
    "# print('accuracy : {}'.format(acc_randomforest))\n",
    "filename = 'titanic_model.sav'\n",
    "pickle.dump(randomforest, open(filename, 'wb'))"
   ]
  },
  {
   "cell_type": "code",
   "execution_count": 10,
   "id": "eea6769a",
   "metadata": {},
   "outputs": [],
   "source": []
  },
  {
   "cell_type": "code",
   "execution_count": 3,
   "id": "eae0a780",
   "metadata": {},
   "outputs": [],
   "source": [
    "def prediction_model(pclass,sex,age,sibsp,parch,fare,embarked,title):\n",
    "    import pickle\n",
    "    x = [[pclass,sex,age,sibsp,parch,fare,embarked,title]]\n",
    "    randomforest = pickle.load(open('titanic_model.sav','rb'))\n",
    "    predictions = randomforest.predict(x)\n",
    "    print(predictions)"
   ]
  },
  {
   "cell_type": "code",
   "execution_count": 4,
   "id": "1823db48",
   "metadata": {},
   "outputs": [
    {
     "name": "stdout",
     "output_type": "stream",
     "text": [
      "[1]\n"
     ]
    },
    {
     "name": "stderr",
     "output_type": "stream",
     "text": [
      "c:\\users\\kirti\\appdata\\local\\programs\\python\\python39\\lib\\site-packages\\sklearn\\base.py:439: UserWarning: X does not have valid feature names, but RandomForestClassifier was fitted with feature names\n",
      "  warnings.warn(\n"
     ]
    }
   ],
   "source": [
    "prediction_model(1,1,11,1,1,19,1,1)"
   ]
  },
  {
   "cell_type": "code",
   "execution_count": null,
   "id": "90eff431",
   "metadata": {},
   "outputs": [],
   "source": []
  }
 ],
 "metadata": {
  "kernelspec": {
   "display_name": "Python 3 (ipykernel)",
   "language": "python",
   "name": "python3"
  },
  "language_info": {
   "codemirror_mode": {
    "name": "ipython",
    "version": 3
   },
   "file_extension": ".py",
   "mimetype": "text/x-python",
   "name": "python",
   "nbconvert_exporter": "python",
   "pygments_lexer": "ipython3",
   "version": "3.9.4"
  }
 },
 "nbformat": 4,
 "nbformat_minor": 5
}
